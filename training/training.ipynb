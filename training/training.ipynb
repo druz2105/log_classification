{
 "cells": [
  {
   "cell_type": "code",
   "metadata": {
    "vscode": {
     "languageId": "plaintext"
    },
    "ExecuteTime": {
     "end_time": "2025-03-22T19:23:38.185690Z",
     "start_time": "2025-03-22T19:23:37.777652Z"
    }
   },
   "source": [
    "import pandas as pd\n",
    "\n",
    "# Load the dataset\n",
    "df = pd.read_csv('dataset/banking_finance_logs.csv')\n",
    "\n",
    "df = df.head(20000)"
   ],
   "outputs": [],
   "execution_count": 1
  },
  {
   "metadata": {
    "ExecuteTime": {
     "end_time": "2025-03-22T19:24:19.701661Z",
     "start_time": "2025-03-22T19:23:40.307423Z"
    }
   },
   "cell_type": "code",
   "source": [
    "from sklearn.cluster import DBSCAN\n",
    "from sentence_transformers import SentenceTransformer\n",
    "import numpy as np\n",
    "import pandas as pd\n",
    "\n",
    "# Load pre-trained sentence transformer model\n",
    "model = SentenceTransformer('all-MiniLM-L6-v2')\n",
    "\n",
    "# Convert log messages into embeddings\n",
    "messages = df['message'].to_list()\n",
    "embeddings = model.encode(messages, normalize_embeddings=True)\n",
    "# Apply DBSCAN clustering\n",
    "dbscan = DBSCAN(eps=0.3, min_samples=5, metric='cosine')  # Use cosine similarity\n",
    "df['cluster'] = dbscan.fit_predict(embeddings)\n",
    "\n",
    "df['is_outlier'] = df['cluster'] == -1\n",
    "\n",
    "# Print results\n",
    "df[['message', 'cluster', 'is_outlier']]"
   ],
   "outputs": [
    {
     "data": {
      "text/plain": [
       "                                                 message  cluster  is_outlier\n",
       "0           Transaction T7416135 completed and recorded.        0       False\n",
       "1                User User627035 logged in successfully.        1       False\n",
       "2               Redirection successful for secure login.        2       False\n",
       "3      Security token missing in authentication process.        3       False\n",
       "4      Payment Session P4833715 initiated for authent...        4       False\n",
       "...                                                  ...      ...         ...\n",
       "19995            User User627035 logged in successfully.        1       False\n",
       "19996  Unauthorized access attempt detected from unkn...       13       False\n",
       "19997  Critical error in credit score verification mo...       49       False\n",
       "19998                Invalid request structure detected.       25       False\n",
       "19999       Transaction T7416135 completed and recorded.        0       False\n",
       "\n",
       "[20000 rows x 3 columns]"
      ],
      "text/html": [
       "<div>\n",
       "<style scoped>\n",
       "    .dataframe tbody tr th:only-of-type {\n",
       "        vertical-align: middle;\n",
       "    }\n",
       "\n",
       "    .dataframe tbody tr th {\n",
       "        vertical-align: top;\n",
       "    }\n",
       "\n",
       "    .dataframe thead th {\n",
       "        text-align: right;\n",
       "    }\n",
       "</style>\n",
       "<table border=\"1\" class=\"dataframe\">\n",
       "  <thead>\n",
       "    <tr style=\"text-align: right;\">\n",
       "      <th></th>\n",
       "      <th>message</th>\n",
       "      <th>cluster</th>\n",
       "      <th>is_outlier</th>\n",
       "    </tr>\n",
       "  </thead>\n",
       "  <tbody>\n",
       "    <tr>\n",
       "      <th>0</th>\n",
       "      <td>Transaction T7416135 completed and recorded.</td>\n",
       "      <td>0</td>\n",
       "      <td>False</td>\n",
       "    </tr>\n",
       "    <tr>\n",
       "      <th>1</th>\n",
       "      <td>User User627035 logged in successfully.</td>\n",
       "      <td>1</td>\n",
       "      <td>False</td>\n",
       "    </tr>\n",
       "    <tr>\n",
       "      <th>2</th>\n",
       "      <td>Redirection successful for secure login.</td>\n",
       "      <td>2</td>\n",
       "      <td>False</td>\n",
       "    </tr>\n",
       "    <tr>\n",
       "      <th>3</th>\n",
       "      <td>Security token missing in authentication process.</td>\n",
       "      <td>3</td>\n",
       "      <td>False</td>\n",
       "    </tr>\n",
       "    <tr>\n",
       "      <th>4</th>\n",
       "      <td>Payment Session P4833715 initiated for authent...</td>\n",
       "      <td>4</td>\n",
       "      <td>False</td>\n",
       "    </tr>\n",
       "    <tr>\n",
       "      <th>...</th>\n",
       "      <td>...</td>\n",
       "      <td>...</td>\n",
       "      <td>...</td>\n",
       "    </tr>\n",
       "    <tr>\n",
       "      <th>19995</th>\n",
       "      <td>User User627035 logged in successfully.</td>\n",
       "      <td>1</td>\n",
       "      <td>False</td>\n",
       "    </tr>\n",
       "    <tr>\n",
       "      <th>19996</th>\n",
       "      <td>Unauthorized access attempt detected from unkn...</td>\n",
       "      <td>13</td>\n",
       "      <td>False</td>\n",
       "    </tr>\n",
       "    <tr>\n",
       "      <th>19997</th>\n",
       "      <td>Critical error in credit score verification mo...</td>\n",
       "      <td>49</td>\n",
       "      <td>False</td>\n",
       "    </tr>\n",
       "    <tr>\n",
       "      <th>19998</th>\n",
       "      <td>Invalid request structure detected.</td>\n",
       "      <td>25</td>\n",
       "      <td>False</td>\n",
       "    </tr>\n",
       "    <tr>\n",
       "      <th>19999</th>\n",
       "      <td>Transaction T7416135 completed and recorded.</td>\n",
       "      <td>0</td>\n",
       "      <td>False</td>\n",
       "    </tr>\n",
       "  </tbody>\n",
       "</table>\n",
       "<p>20000 rows × 3 columns</p>\n",
       "</div>"
      ]
     },
     "execution_count": 2,
     "metadata": {},
     "output_type": "execute_result"
    }
   ],
   "execution_count": 2
  },
  {
   "metadata": {
    "ExecuteTime": {
     "end_time": "2025-03-22T19:28:08.623309Z",
     "start_time": "2025-03-22T19:28:08.538557Z"
    }
   },
   "cell_type": "code",
   "source": [
    "import pickle\n",
    "\n",
    "# Save DBSCAN model\n",
    "with open(\"../models/dbscan_model.pkl\", \"wb\") as f:\n",
    "    pickle.dump(dbscan, f)\n",
    "\n",
    "# Save clustered log messages\n",
    "df.to_csv(\"../models/log_clusters.csv\", index=False)\n",
    "\n",
    "# Save embeddings\n",
    "np.save(\"../models/log_embeddings.npy\", embeddings)\n"
   ],
   "outputs": [],
   "execution_count": 3
  },
  {
   "metadata": {
    "ExecuteTime": {
     "end_time": "2025-03-21T18:41:13.838007Z",
     "start_time": "2025-03-21T18:41:13.833920Z"
    }
   },
   "cell_type": "code",
   "source": [
    "import re\n",
    "\n",
    "\n",
    "def classify_cluster_message(message):\n",
    "    patterns = {\n",
    "        r\"User User\\d+ logged (in|out) successfully\\.\": \"Low\",\n",
    "        r\"Payment Session P\\d{7,} Closed Successfully\\.\": \"Low\",\n",
    "        r\"Transaction T\\d{7,} completed without errors\\.\": \"Low\",\n",
    "        r\"Payment Session P\\d{7,} initiated for authenticated user\\.\": \"Low\",\n",
    "        r\"New account created successfully\\.\": \"Low\",\n",
    "        r\"Transaction T\\d{7,} confirmation received\\.\": \"Low\",\n",
    "        r\"Transaction T\\d{7,} completed and recorded\\.\": \"Low\",\n",
    "        r\"User User\\d+ registration successful\\.\": \"Low\",\n",
    "        r\"Profile User\\d+ updated successfully\\.\": \"Low\",\n",
    "        r\"Resource moved permanently to a new URL\\.\": \"Low\",\n",
    "        r\"Redirection successful for secure login\\.\": \"Low\",\n",
    "        r\"Page redirection to updated banking portal\\.\": \"Low\",\n",
    "        r\"Redirection to new payment endpoint successful\\.\": \"Low\",\n",
    "    }\n",
    "\n",
    "    for pattern, category in patterns.items():\n",
    "        if re.search(pattern, message, re.IGNORECASE):\n",
    "            return category\n",
    "    return None"
   ],
   "outputs": [],
   "execution_count": 5
  },
  {
   "metadata": {
    "ExecuteTime": {
     "end_time": "2025-03-21T18:41:20.226168Z",
     "start_time": "2025-03-21T18:41:20.104874Z"
    }
   },
   "cell_type": "code",
   "source": [
    "df[\"regex_label\"] = df[\"message\"].apply(classify_cluster_message)\n",
    "df.head()"
   ],
   "outputs": [
    {
     "data": {
      "text/plain": [
       "             timestamp error_code  \\\n",
       "0  2025-01-01 00:01:50        201   \n",
       "1  2025-01-01 00:02:21        200   \n",
       "2  2025-01-01 00:05:31        301   \n",
       "3  2025-01-01 00:06:15        401   \n",
       "4  2025-01-01 00:07:05        200   \n",
       "\n",
       "                                             message      log_type severity  \\\n",
       "0       Transaction T7416135 completed and recorded.  Http Success      Low   \n",
       "1            User User627035 logged in successfully.  Http Success      Low   \n",
       "2           Redirection successful for secure login.    HTTP Error      Low   \n",
       "3  Security token missing in authentication process.    HTTP Error   Medium   \n",
       "4  Payment Session P4833715 initiated for authent...  Http Success      Low   \n",
       "\n",
       "        source_ip destination_ip          process  \\\n",
       "0    192.168.1.10   192.168.1.30  Database Server   \n",
       "1    53.26.85.240   192.168.1.10       Web Server   \n",
       "2    27.78.247.46   192.168.1.10       Web Server   \n",
       "3  151.130.32.102   192.168.1.10       Web Server   \n",
       "4    192.168.1.40   192.168.1.20  Payment Gateway   \n",
       "\n",
       "                                     encoded_message  cluster regex_label  \n",
       "0  Transaction T7416135 completed and recorded. D...        0         Low  \n",
       "1  User User627035 logged in successfully. Web Se...        1         Low  \n",
       "2  Redirection successful for secure login. Web S...        2         Low  \n",
       "3  Security token missing in authentication proce...        3        None  \n",
       "4  Payment Session P4833715 initiated for authent...        4         Low  "
      ],
      "text/html": [
       "<div>\n",
       "<style scoped>\n",
       "    .dataframe tbody tr th:only-of-type {\n",
       "        vertical-align: middle;\n",
       "    }\n",
       "\n",
       "    .dataframe tbody tr th {\n",
       "        vertical-align: top;\n",
       "    }\n",
       "\n",
       "    .dataframe thead th {\n",
       "        text-align: right;\n",
       "    }\n",
       "</style>\n",
       "<table border=\"1\" class=\"dataframe\">\n",
       "  <thead>\n",
       "    <tr style=\"text-align: right;\">\n",
       "      <th></th>\n",
       "      <th>timestamp</th>\n",
       "      <th>error_code</th>\n",
       "      <th>message</th>\n",
       "      <th>log_type</th>\n",
       "      <th>severity</th>\n",
       "      <th>source_ip</th>\n",
       "      <th>destination_ip</th>\n",
       "      <th>process</th>\n",
       "      <th>encoded_message</th>\n",
       "      <th>cluster</th>\n",
       "      <th>regex_label</th>\n",
       "    </tr>\n",
       "  </thead>\n",
       "  <tbody>\n",
       "    <tr>\n",
       "      <th>0</th>\n",
       "      <td>2025-01-01 00:01:50</td>\n",
       "      <td>201</td>\n",
       "      <td>Transaction T7416135 completed and recorded.</td>\n",
       "      <td>Http Success</td>\n",
       "      <td>Low</td>\n",
       "      <td>192.168.1.10</td>\n",
       "      <td>192.168.1.30</td>\n",
       "      <td>Database Server</td>\n",
       "      <td>Transaction T7416135 completed and recorded. D...</td>\n",
       "      <td>0</td>\n",
       "      <td>Low</td>\n",
       "    </tr>\n",
       "    <tr>\n",
       "      <th>1</th>\n",
       "      <td>2025-01-01 00:02:21</td>\n",
       "      <td>200</td>\n",
       "      <td>User User627035 logged in successfully.</td>\n",
       "      <td>Http Success</td>\n",
       "      <td>Low</td>\n",
       "      <td>53.26.85.240</td>\n",
       "      <td>192.168.1.10</td>\n",
       "      <td>Web Server</td>\n",
       "      <td>User User627035 logged in successfully. Web Se...</td>\n",
       "      <td>1</td>\n",
       "      <td>Low</td>\n",
       "    </tr>\n",
       "    <tr>\n",
       "      <th>2</th>\n",
       "      <td>2025-01-01 00:05:31</td>\n",
       "      <td>301</td>\n",
       "      <td>Redirection successful for secure login.</td>\n",
       "      <td>HTTP Error</td>\n",
       "      <td>Low</td>\n",
       "      <td>27.78.247.46</td>\n",
       "      <td>192.168.1.10</td>\n",
       "      <td>Web Server</td>\n",
       "      <td>Redirection successful for secure login. Web S...</td>\n",
       "      <td>2</td>\n",
       "      <td>Low</td>\n",
       "    </tr>\n",
       "    <tr>\n",
       "      <th>3</th>\n",
       "      <td>2025-01-01 00:06:15</td>\n",
       "      <td>401</td>\n",
       "      <td>Security token missing in authentication process.</td>\n",
       "      <td>HTTP Error</td>\n",
       "      <td>Medium</td>\n",
       "      <td>151.130.32.102</td>\n",
       "      <td>192.168.1.10</td>\n",
       "      <td>Web Server</td>\n",
       "      <td>Security token missing in authentication proce...</td>\n",
       "      <td>3</td>\n",
       "      <td>None</td>\n",
       "    </tr>\n",
       "    <tr>\n",
       "      <th>4</th>\n",
       "      <td>2025-01-01 00:07:05</td>\n",
       "      <td>200</td>\n",
       "      <td>Payment Session P4833715 initiated for authent...</td>\n",
       "      <td>Http Success</td>\n",
       "      <td>Low</td>\n",
       "      <td>192.168.1.40</td>\n",
       "      <td>192.168.1.20</td>\n",
       "      <td>Payment Gateway</td>\n",
       "      <td>Payment Session P4833715 initiated for authent...</td>\n",
       "      <td>4</td>\n",
       "      <td>Low</td>\n",
       "    </tr>\n",
       "  </tbody>\n",
       "</table>\n",
       "</div>"
      ]
     },
     "execution_count": 6,
     "metadata": {},
     "output_type": "execute_result"
    }
   ],
   "execution_count": 6
  },
  {
   "metadata": {
    "ExecuteTime": {
     "end_time": "2025-03-21T18:41:22.100747Z",
     "start_time": "2025-03-21T18:41:22.091669Z"
    }
   },
   "cell_type": "code",
   "source": [
    "df_non_regex = df[df.regex_label.isna()]\n",
    "df_non_regex.shape"
   ],
   "outputs": [
    {
     "data": {
      "text/plain": [
       "(12908, 11)"
      ]
     },
     "execution_count": 7,
     "metadata": {},
     "output_type": "execute_result"
    }
   ],
   "execution_count": 7
  },
  {
   "metadata": {
    "ExecuteTime": {
     "end_time": "2025-03-21T18:41:23.836598Z",
     "start_time": "2025-03-21T18:41:23.829326Z"
    }
   },
   "cell_type": "code",
   "source": [
    "process_counts = df_non_regex['log_type'].value_counts()\n",
    "\n",
    "print(\"Process Counts:\\n\", process_counts, \"\\n\")"
   ],
   "outputs": [
    {
     "name": "stdout",
     "output_type": "stream",
     "text": [
      "Process Counts:\n",
      " log_type\n",
      "HTTP Error                  8398\n",
      "System Failure              2761\n",
      "Security Breach             1120\n",
      "Warning                      442\n",
      "Maintenance                  162\n",
      "Access Control Violation      13\n",
      "Email Failure                 12\n",
      "Name: count, dtype: int64 \n",
      "\n"
     ]
    }
   ],
   "execution_count": 8
  },
  {
   "metadata": {
    "ExecuteTime": {
     "end_time": "2025-03-21T18:41:27.834633Z",
     "start_time": "2025-03-21T18:41:27.828715Z"
    }
   },
   "cell_type": "code",
   "source": [
    "df_bert_classification = df_non_regex[\n",
    "    ~df_non_regex.log_type.isin(['Maintenance', 'Access Control Violation', 'Email Failure'])]"
   ],
   "outputs": [],
   "execution_count": 9
  },
  {
   "metadata": {
    "ExecuteTime": {
     "end_time": "2025-03-21T18:43:25.355359Z",
     "start_time": "2025-03-21T18:43:05.728695Z"
    }
   },
   "cell_type": "code",
   "source": "embeddings_bert = model.encode(df_bert_classification['message'].to_list())",
   "outputs": [],
   "execution_count": 13
  },
  {
   "metadata": {
    "ExecuteTime": {
     "end_time": "2025-03-21T18:43:29.043730Z",
     "start_time": "2025-03-21T18:43:25.403644Z"
    }
   },
   "cell_type": "code",
   "source": [
    "from sklearn.linear_model import LogisticRegression\n",
    "from sklearn.model_selection import train_test_split\n",
    "from sklearn.metrics import classification_report\n",
    "\n",
    "X = embeddings_bert\n",
    "Y = df_bert_classification['severity']\n",
    "\n",
    "# Train-test split\n",
    "X_train, X_test, y_train, y_test = train_test_split(X, Y, test_size=0.4, random_state=42)\n",
    "\n",
    "# Train Logistic Regression model\n",
    "severity_logistic_model = LogisticRegression(max_iter=1000, class_weight='balanced')\n",
    "severity_logistic_model.fit(X_train, y_train)\n",
    "\n",
    "# Predict and get classification report\n",
    "y_pred = severity_logistic_model.predict(X_test)\n",
    "report = classification_report(y_test, y_pred, zero_division=0)\n",
    "print(report)"
   ],
   "outputs": [
    {
     "name": "stdout",
     "output_type": "stream",
     "text": [
      "              precision    recall  f1-score   support\n",
      "\n",
      "    Critical       0.89      0.95      0.92      1701\n",
      "        High       0.92      0.85      0.88      1805\n",
      "      Medium       0.96      0.97      0.96      1583\n",
      "\n",
      "    accuracy                           0.92      5089\n",
      "   macro avg       0.92      0.92      0.92      5089\n",
      "weighted avg       0.92      0.92      0.92      5089\n",
      "\n"
     ]
    }
   ],
   "execution_count": 14
  },
  {
   "metadata": {
    "ExecuteTime": {
     "end_time": "2025-03-21T18:36:31.381776Z",
     "start_time": "2025-03-21T18:36:31.374763Z"
    }
   },
   "cell_type": "code",
   "source": [
    "import joblib\n",
    "\n",
    "joblib.dump(severity_logistic_model, '../models/severity_logistic_model.joblib')"
   ],
   "outputs": [
    {
     "data": {
      "text/plain": [
       "['../models/severity_logistic_model.joblib']"
      ]
     },
     "execution_count": 18,
     "metadata": {},
     "output_type": "execute_result"
    }
   ],
   "execution_count": 18
  }
 ],
 "metadata": {
  "language_info": {
   "name": "python"
  },
  "kernelspec": {
   "name": "python3",
   "language": "python",
   "display_name": "Python 3 (ipykernel)"
  }
 },
 "nbformat": 4,
 "nbformat_minor": 2
}
